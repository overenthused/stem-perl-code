{
 "cells": [
  {
   "cell_type": "code",
   "execution_count": 1,
   "id": "d28cc5fe-17fb-47ce-840a-f2f655c5d740",
   "metadata": {},
   "outputs": [],
   "source": [
    "# %load pyFiles/main.py\n",
    "class Faculty:\n",
    "    \"\"\"\n",
    "    Object which holds two pandas Series, one which holds the 2014 census data and one which holds\n",
    "    the 2016 check-in data.\n",
    "    \"\"\"\n",
    "    def __init__(self, c14=None, c16=None):\n",
    "        self.c14 = c14\n",
    "        self.c16 = c16\n",
    "\n",
    "\n",
    "def match_faculty(df1, df2, col1, col2):\n",
    "    \"\"\"\n",
    "    Match strings from a column of one dataframe to a column of another.\n",
    "    Return a list of Faculty who have matches on both lists.\n",
    "\n",
    "    :param df1: pandas DataFrame.\n",
    "    :param df2: pandas DataFrame.\n",
    "    :param col1: str. Used to choose column in df1\n",
    "    :param col2: str. Used to choose column in df2\n",
    "    :return: list of Faculty\n",
    "    \"\"\"\n",
    "    emails_string = \"\"\n",
    "    matched_faculty = []\n",
    "    matches = 0\n",
    "    dmatches = 0\n",
    "    for i, email in enumerate(df1[col1]):  # Iterates through every single pair to check for duplicates\n",
    "        count = 0\n",
    "        for j, email2 in enumerate(df2[col2]):\n",
    "            if type(email) == str and type(email2) == str:\n",
    "                if email.strip().lower() == email2.strip().lower():\n",
    "                    count += 1\n",
    "                    if count == 1:\n",
    "                        matches += 1\n",
    "                        new_fac = Faculty(c14=df2.iloc[j], c16=df1.iloc[i])\n",
    "                        matched_faculty.append(new_fac)\n",
    "                    elif count > 1:\n",
    "                        dmatches += 1\n",
    "        if count == 0:\n",
    "            emails_string = emails_string + email + \"\\n\"  # TODO: Analyze duplicates\n",
    "    return matched_faculty\n",
    "\n",
    "\n",
    "def q_map(name, value=None, series=None):\n",
    "    \"\"\"\n",
    "    Maps raw data from a certain variable name to legible or workable outputs.\n",
    "    :param name: str. Variable name to be mapped\n",
    "    :param value: str. Optional, value to match.\n",
    "    :param series: Optional, series to be indexed with name\n",
    "    :return: Mapped value.\n",
    "    \"\"\"\n",
    "    if series is not None:\n",
    "        value = series[name]\n",
    "    if name == \"Q37\":\n",
    "        if value == \"1\":\n",
    "            return \"Assistant Professor\"\n",
    "        elif value == \"2\":\n",
    "            return \"Associate Professor\"\n",
    "        elif value == \"3\":\n",
    "            return \"Tenured Professor\"\n",
    "        elif value == \"4\":\n",
    "            return \"Senior Professor\"\n",
    "        elif value == \"5\":\n",
    "            return \"Professor, Non-tentured track\"\n",
    "        elif value == \"6\":\n",
    "            return \"Postdoctoral Associate/Fellow\"\n",
    "        elif value == \"7\":\n",
    "            return \"Graduate Student\"\n",
    "        elif value == \"12\":\n",
    "            return \"Other\"\n",
    "        else:\n",
    "            return \"Error: Value Not Found\"\n"
   ]
  },
  {
   "cell_type": "code",
   "execution_count": 2,
   "id": "b691fc0c-ca7b-4d59-b36b-c7cdfa811b7e",
   "metadata": {},
   "outputs": [],
   "source": [
    "import pandas as pd"
   ]
  },
  {
   "cell_type": "markdown",
   "id": "03254e92-2dc6-4a36-a516-beed4448165c",
   "metadata": {},
   "source": [
    "Read in csv files."
   ]
  },
  {
   "cell_type": "code",
   "execution_count": 3,
   "id": "f30797ac-db2e-48a0-8ec6-a8fa41270de4",
   "metadata": {},
   "outputs": [],
   "source": [
    "d2014_data = pd.read_csv(\"../data/2014data.csv\", keep_default_na=False, na_filter=False, dtype=str)\n",
    "d2016_data = pd.read_csv(\"../data/2016data2.csv\", keep_default_na=False, na_filter=False, dtype=str)"
   ]
  },
  {
   "cell_type": "markdown",
   "id": "e1a2730d-d51c-443e-bb99-ec77350df052",
   "metadata": {},
   "source": [
    "Use the `match_faculty` function to make a list of faculty who have the same email in both 2014 and 2016"
   ]
  },
  {
   "cell_type": "code",
   "execution_count": 4,
   "id": "04a2b48e-bbfd-4648-adf3-233466a5e9f3",
   "metadata": {},
   "outputs": [],
   "source": [
    "matched_faculty = match_faculty(d2016_data, d2014_data, \"RecipientEmail\", \"RecipientEmail\")"
   ]
  },
  {
   "cell_type": "markdown",
   "id": "2ed17870-a65f-4d72-b111-9f9f29070e1f",
   "metadata": {},
   "source": [
    "Make a list of the regional leaders, or faculty who have a value of `\"2\"` for `Q114`."
   ]
  },
  {
   "cell_type": "code",
   "execution_count": 5,
   "id": "c43bc50d-15bf-4804-90a3-a8e9cb3a34c7",
   "metadata": {},
   "outputs": [
    {
     "name": "stdout",
     "output_type": "stream",
     "text": [
      "357\n"
     ]
    }
   ],
   "source": [
    "print(len(matched_faculty))"
   ]
  },
  {
   "cell_type": "code",
   "execution_count": 6,
   "id": "56dfdc5b-a5e8-4476-b177-4e431d49810b",
   "metadata": {},
   "outputs": [],
   "source": [
    "regional_leaders = [fac for fac in matched_faculty if \"2\" in fac.c14[\"Q114\"]]"
   ]
  },
  {
   "cell_type": "code",
   "execution_count": 7,
   "id": "146bad3b-fe38-4ac9-81c5-772de741eac5",
   "metadata": {},
   "outputs": [
    {
     "name": "stdout",
     "output_type": "stream",
     "text": [
      "9\n"
     ]
    }
   ],
   "source": [
    "print(len(regional_leaders))"
   ]
  },
  {
   "cell_type": "code",
   "execution_count": 8,
   "id": "cbdf46c0-ab3a-4408-ad5a-e4d03d0608b0",
   "metadata": {},
   "outputs": [
    {
     "name": "stdout",
     "output_type": "stream",
     "text": [
      "2\n",
      "3\n",
      "12\n",
      "2\n",
      "2\n",
      "4\n",
      "12\n",
      "2\n",
      "5\n"
     ]
    }
   ],
   "source": [
    "for leader in regional_leaders:\n",
    "    position = leader.c16[\"Q37\"]\n",
    "    print(position)"
   ]
  },
  {
   "cell_type": "markdown",
   "id": "2dea364b-be00-4423-ba7c-65708e00690e",
   "metadata": {},
   "source": [
    "Use `q_map` to get position names instead of numbers."
   ]
  },
  {
   "cell_type": "code",
   "execution_count": 9,
   "id": "f90e0d17-4632-4b67-bbea-8378a0500512",
   "metadata": {},
   "outputs": [
    {
     "name": "stdout",
     "output_type": "stream",
     "text": [
      "Associate Professor\n",
      "Tenured Professor\n",
      "Other Professor of MCD Biology, Emeritus\n",
      "Associate Professor\n",
      "Associate Professor\n",
      "Senior Professor\n",
      "Other Teaching and Learning Center\n",
      "Associate Professor\n",
      "Professor, Non-tentured track\n"
     ]
    }
   ],
   "source": [
    "for leader in regional_leaders:\n",
    "    position = q_map(\"Q37\", series=leader.c16)\n",
    "    if position == \"Other\":\n",
    "        print(position, leader.c16[\"Q26\"])\n",
    "    else:\n",
    "        print(position)"
   ]
  }
 ],
 "metadata": {
  "kernelspec": {
   "display_name": "Python 3 (ipykernel)",
   "language": "python",
   "name": "python3"
  },
  "language_info": {
   "codemirror_mode": {
    "name": "ipython",
    "version": 3
   },
   "file_extension": ".py",
   "mimetype": "text/x-python",
   "name": "python",
   "nbconvert_exporter": "python",
   "pygments_lexer": "ipython3",
   "version": "3.9.7"
  }
 },
 "nbformat": 4,
 "nbformat_minor": 5
}
